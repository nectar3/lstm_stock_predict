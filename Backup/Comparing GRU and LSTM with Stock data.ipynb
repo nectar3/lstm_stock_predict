{
 "cells": [
  {
   "cell_type": "markdown",
   "metadata": {},
   "source": [
    "# Comparing GRU and LSTM with Stock data"
   ]
  },
  {
   "cell_type": "code",
   "execution_count": 1,
   "metadata": {},
   "outputs": [
    {
     "name": "stdout",
     "output_type": "stream",
     "text": [
      "C:\\Users\\ample\\miniconda3\\python.exe\n"
     ]
    }
   ],
   "source": [
    "#!pip install yfinance\n",
    "\n",
    "import sys\n",
    "print(sys.executable)\n",
    "\n",
    "# numpy 설치했음에도 에러가 날때\n",
    "sys.path.append('C:\\\\Users\\\\ample\\\\miniconda3\\\\envs\\\\tensorflow\\\\lib\\\\site-packages')\n",
    "sys.path.append('C:\\\\Users\\\\ample\\\\miniconda3\\\\envs\\\\tensorflow')\n",
    "sys.path.append('C:\\\\Users\\\\ample\\\\miniconda3\\\\envs\\\\tensorflow\\\\lib')       \n",
    "sys.path.append('C:\\\\Users\\\\ample\\\\miniconda3\\\\envs\\\\tensorflow\\\\DLLs')        \n",
    "sys.path.append('C:\\\\Users\\\\ample\\\\miniconda3\\\\envs\\\\tensorflow\\\\python37.zip')\n",
    "\n",
    "\n",
    "import numpy as np\n",
    "import pandas as pd \n",
    "\n",
    "\n",
    "import yfinance as yf # Yahoo finance 에서 제공하는 데이터에 접근 가능"
   ]
  },
  {
   "cell_type": "markdown",
   "metadata": {},
   "source": [
    "## 1. 주식가격 데이터 불러오기   \n",
    "    * train data: 2013년부너 2018년까지의 일일 주가\n",
    "    * test data : 2019년의 일일 주가"
   ]
  },
  {
   "cell_type": "code",
   "execution_count": 2,
   "metadata": {
    "scrolled": true
   },
   "outputs": [
    {
     "name": "stdout",
     "output_type": "stream",
     "text": [
      "There are 1511 observations in the training data\n",
      "There are 251 observations in the test data\n",
      "(1511, 6)\n",
      "<class 'pandas.core.frame.DataFrame'>\n"
     ]
    },
    {
     "data": {
      "image/png": "[encoded data removed]",
      "text/plain": [
       "<Figure size 432x288 with 1 Axes>"
      ]
     },
     "metadata": {
      "needs_background": "light"
     },
     "output_type": "display_data"
    }
   ],
   "source": [
    "# 아마존의 2013년 부터 2018년까지 일일 주가를 학습 데이터로\n",
    "# 2019년 데이터를 테스트 데이터로 사용 \n",
    "\n",
    "AMZN = yf.download('AMZN', \n",
    "                  start = '2013-01-01',\n",
    "                  end = '2019-12-31',\n",
    "                  progress = False)\n",
    "\n",
    "\n",
    "# 수정종가(Adj close), 시가(Open), 최고가(High), 최저가(Low), 종가(Close). 거래량(Volume)\n",
    "all_data = AMZN[['Adj Close', 'Open', 'High','Low',\"Close\",\"Volume\"]].round(2)\n",
    "\n",
    "all_data.head(15)\n",
    "\n",
    "print(\"There are \"+str(all_data[:'2018'].shape[0])+\" observations in the training data\")\n",
    "print(\"There are \"+str(all_data['2019':].shape[0])+\" observations in the test data\")\n",
    "\n",
    "print(all_data[:'2018'].shape)\n",
    "\n",
    "all_data['Adj Close'].plot()\n",
    "\n",
    "print(type(all_data))"
   ]
  },
  {
   "cell_type": "code",
   "execution_count": 3,
   "metadata": {
    "scrolled": false
   },
   "outputs": [
    {
     "data": {
      "text/html": [
       "<div>\n",
       "<style scoped>\n",
       "    .dataframe tbody tr th:only-of-type {\n",
       "        vertical-align: middle;\n",
       "    }\n",
       "\n",
       "    .dataframe tbody tr th {\n",
       "        vertical-align: top;\n",
       "    }\n",
       "\n",
       "    .dataframe thead th {\n",
       "        text-align: right;\n",
       "    }\n",
       "</style>\n",
       "<table border=\"1\" class=\"dataframe\">\n",
       "  <thead>\n",
       "    <tr style=\"text-align: right;\">\n",
       "      <th></th>\n",
       "      <th>Adj Close</th>\n",
       "      <th>Open</th>\n",
       "      <th>High</th>\n",
       "      <th>Low</th>\n",
       "      <th>Close</th>\n",
       "      <th>Volume</th>\n",
       "    </tr>\n",
       "    <tr>\n",
       "      <th>Date</th>\n",
       "      <th></th>\n",
       "      <th></th>\n",
       "      <th></th>\n",
       "      <th></th>\n",
       "      <th></th>\n",
       "      <th></th>\n",
       "    </tr>\n",
       "  </thead>\n",
       "  <tbody>\n",
       "    <tr>\n",
       "      <th>2012-12-31</th>\n",
       "      <td>250.87</td>\n",
       "      <td>243.75</td>\n",
       "      <td>252.41</td>\n",
       "      <td>242.75</td>\n",
       "      <td>250.87</td>\n",
       "      <td>3419000</td>\n",
       "    </tr>\n",
       "    <tr>\n",
       "      <th>2013-01-02</th>\n",
       "      <td>257.31</td>\n",
       "      <td>256.08</td>\n",
       "      <td>258.10</td>\n",
       "      <td>253.26</td>\n",
       "      <td>257.31</td>\n",
       "      <td>3271000</td>\n",
       "    </tr>\n",
       "    <tr>\n",
       "      <th>2013-01-03</th>\n",
       "      <td>258.48</td>\n",
       "      <td>257.27</td>\n",
       "      <td>260.88</td>\n",
       "      <td>256.37</td>\n",
       "      <td>258.48</td>\n",
       "      <td>2750900</td>\n",
       "    </tr>\n",
       "    <tr>\n",
       "      <th>2013-01-04</th>\n",
       "      <td>259.15</td>\n",
       "      <td>257.58</td>\n",
       "      <td>259.80</td>\n",
       "      <td>256.65</td>\n",
       "      <td>259.15</td>\n",
       "      <td>1874200</td>\n",
       "    </tr>\n",
       "    <tr>\n",
       "      <th>2013-01-07</th>\n",
       "      <td>268.46</td>\n",
       "      <td>262.97</td>\n",
       "      <td>269.73</td>\n",
       "      <td>262.67</td>\n",
       "      <td>268.46</td>\n",
       "      <td>4910000</td>\n",
       "    </tr>\n",
       "  </tbody>\n",
       "</table>\n",
       "</div>"
      ],
      "text/plain": [
       "            Adj Close    Open    High     Low   Close   Volume\n",
       "Date                                                          \n",
       "2012-12-31     250.87  243.75  252.41  242.75  250.87  3419000\n",
       "2013-01-02     257.31  256.08  258.10  253.26  257.31  3271000\n",
       "2013-01-03     258.48  257.27  260.88  256.37  258.48  2750900\n",
       "2013-01-04     259.15  257.58  259.80  256.65  259.15  1874200\n",
       "2013-01-07     268.46  262.97  269.73  262.67  268.46  4910000"
      ]
     },
     "execution_count": 3,
     "metadata": {},
     "output_type": "execute_result"
    }
   ],
   "source": [
    "all_data.head(5)"
   ]
  },
  {
   "cell_type": "markdown",
   "metadata": {},
   "source": [
    "## 2. RNN/LSTM을 위한 학습데이터 만들기\n",
    "단변량 주식 가격 시계열로 부터 학습데이터를 생성\n",
    "    * MANY 2 MANY\n",
    "    * MANY 2 ONE"
   ]
  },
  {
   "cell_type": "markdown",
   "metadata": {},
   "source": [
    "### 2-1. MANY 2 MANY\n",
    "- 과거 X일의 가격을 사용해서 미래 Y일의 가격을 예측\n",
    "- 빨간색 창을 시리즈에 따라 움직여서 __샘플__ 을 만듦\n",
    "- 각 샘플은 5가지 입력값과 2개의 출력값을 가짐\n",
    "- __타임스텝__ : 각 샘플의 입력값\n",
    "- __feature__ : 매 타임스텝마다 feature라고 불리는 하나의 숫자를 가짐. feature의 수는 여러개일 수 있음\n",
    "--------------------\n",
    "![image](https://img1.daumcdn.net/thumb/R1280x0/?scode=mtistory2&fname=https%3A%2F%2Fblog.kakaocdn.net%2Fdn%2FbJf0aY%2FbtqUL9JDeyT%2Fp0MlEeFIYl7SkbRCkDwkW0%2Fimg.png)"
   ]
  },
  {
   "cell_type": "markdown",
   "metadata": {},
   "source": [
    "### 2-2. MANY 2 ONE\n",
    "- 출력값 하나\n",
    "----------------\n",
    "![IMAGE](https://img1.daumcdn.net/thumb/R1280x0/?scode=mtistory2&fname=https%3A%2F%2Fblog.kakaocdn.net%2Fdn%2FrTfhY%2FbtqVRwhXa0G%2FRxW8kzcRHT2HbXRZlKP2QK%2Fimg.png)"
   ]
  },
  {
   "cell_type": "markdown",
   "metadata": {},
   "source": [
    "X가 다차원인 변수를 LSTM 입력을 위해 3차원으로 변형   \n",
    "![image](https://1.bp.blogspot.com/-As5cOG_Fatc/XMR80nemvGI/AAAAAAAAqds/_xQakPgc0uoXMXPDv9pB9-AJxdjsuDWNACLcBGAs/s640/nn.png)    \n",
    "\n",
    "-------\n",
    "![image](https://4.bp.blogspot.com/-duOcCEd9DJU/XMSJD6kzDJI/AAAAAAAAqd4/xlbs2_fbw248QJGkahI5IJJeOHEMBJKdwCLcBGAs/s400/nn2.png)"
   ]
  },
  {
   "cell_type": "markdown",
   "metadata": {},
   "source": [
    "### 2-3. RNN/LSTM/GRU는 3차원의 배열을 입력\n",
    "- __Tensor__ : 하나의 텐서는 모델에 들어가는 벡터임\n",
    "- __Time Step__ : 하나의 타임스텝은 텐서에서 하나의 관측치\n",
    "- __Feature__ : 한 feature는 그 타임스텝에서 하나의 관측치 "
   ]
  },
  {
   "cell_type": "markdown",
   "metadata": {},
   "source": [
    "따라서 위의 1차원 배열은 3차원 배열로 변경되어야 함   \n",
    "--> [# of samples, # of time steps, # of features]    \n",
    "\n",
    "\n",
    "\n",
    "\n",
    "np.reshape(samples, time steps, features) 로 만듦"
   ]
  },
  {
   "cell_type": "markdown",
   "metadata": {},
   "source": [
    "## 3. RNN/LSTM/GRU 에 정규화된 데이터 필요함\n",
    "- 학습 데이터만 스케일 변환에 사용됨(scaler transformation)\n",
    "- train_x 와 test_x를 독립적으로 스케일링하지 말 것!"
   ]
  },
  {
   "cell_type": "code",
   "execution_count": 4,
   "metadata": {},
   "outputs": [],
   "source": [
    "def ts_train_test_normalize(all_data, time_steps, for_periods):\n",
    "    \"\"\"\n",
    "    input: \n",
    "        data: dataframe with dates and price data\n",
    "    output: \n",
    "        X_train, y_train: data from 2013/1/1-2018/12/31 \n",
    "        X_test : data from 2019- \n",
    "        sc :     insantiated MinMaxScaler object fit to the training data \n",
    "    \"\"\"\n",
    "    # create training and test set \n",
    "    ts_train = all_data[:'2018'].iloc[:,0:1].values # 여기서 종가만 컷 # 콤마가 차원구분, n:m n 부터 m인덱스미만까지\n",
    "    print(type(ts_train)) # ndarray\n",
    "    print(ts_train[:5]) # head 대체 # 종가 [[250.87] [257.31]]\n",
    "    \n",
    "    \n",
    "    ts_test = all_data['2019':].iloc[:,0:1].values \n",
    "    ts_train_len = len(ts_train)\n",
    "    ts_test_len = len(ts_test)\n",
    "    \n",
    "    # scale the data \n",
    "    from sklearn.preprocessing import MinMaxScaler \n",
    "    sc = MinMaxScaler(feature_range=(0,1))\n",
    "    ts_train_scaled = sc.fit_transform(ts_train) # fit 은 표준편차 구하는거고, transform 은 구한걸로 변환 # train 데이터로 fit해서 test를 변환\n",
    "    \n",
    "    # create training data of s samples and t time steps \n",
    "    X_train = [] \n",
    "    y_train = [] \n",
    "    for i in range(time_steps, ts_train_len-1):  # 종가를 타임스텝5로 잘라 배열하는듯. range(n, m) n 부터 m까지\n",
    "        X_train.append(ts_train_scaled[i-time_steps:i, 0]) # 종가 5개\n",
    "        y_train.append(ts_train_scaled[i:i+for_periods, 0]) # 결과 2개 \n",
    "    X_train, y_train = np.array(X_train), np.array(y_train)\n",
    "    \n",
    "    print(type(X_train)) # ndarray\n",
    "    print(X_train[:5])\n",
    "    print(X_train.shape) # (1505, 5)\n",
    "    \n",
    "    print('=============');    \n",
    "    print('=============');\n",
    "\n",
    "    \n",
    "    # Reshaping X_train for efficient modelling # 3차원으로\n",
    "    X_train = np.reshape(X_train, (X_train.shape[0], X_train.shape[1], 1 ))\n",
    "    \n",
    "    print(X_train.shape) # (1505, 5, 1)\n",
    "\n",
    "    inputs = pd.concat((all_data[\"Adj Close\"][:'2018'], all_data[\"Adj Close\"]['2019':]), axis=0).values\n",
    "    print(type(inputs))  # ndarray\n",
    "    print(inputs.shape) # (1762,) # train + test\n",
    "    \n",
    "    inputs = inputs[len(inputs)-len(ts_test)-time_steps:]\n",
    "    \n",
    "    print(inputs.shape) # (256,)\n",
    "    \n",
    "    inputs = inputs.reshape(-1,1)\n",
    "    \n",
    "    print(inputs.shape) # (256, 1)\n",
    "    print('=============');\n",
    "    inputs = sc.transform(inputs) # 테스트 데이터 정규화  #위에서 train 데이터로 fit한걸로 test를 변환\n",
    "    \n",
    "    # Preparing X_test \n",
    "    X_test = [] \n",
    "    for i in range(time_steps, ts_test_len + time_steps - for_periods):\n",
    "        X_test.append(inputs[i-time_steps:i,0])\n",
    "    \n",
    "    X_test = np.array(X_test)\n",
    "    X_test = np.reshape(X_test, (X_test.shape[0], X_test.shape[1], 1))\n",
    "    \n",
    "    return X_train, y_train , X_test, sc "
   ]
  },
  {
   "cell_type": "code",
   "execution_count": 5,
   "metadata": {
    "scrolled": false
   },
   "outputs": [
    {
     "name": "stdout",
     "output_type": "stream",
     "text": [
      "<class 'numpy.ndarray'>\n",
      "[[250.87]\n",
      " [257.31]\n",
      " [258.48]\n",
      " [259.15]\n",
      " [268.46]]\n",
      "<class 'numpy.ndarray'>\n",
      "[[0.00147381 0.005069   0.00572217 0.0060962  0.0112936 ]\n",
      " [0.005069   0.00572217 0.0060962  0.0112936  0.01013242]\n",
      " [0.00572217 0.0060962  0.0112936  0.01013242 0.01011567]\n",
      " [0.0060962  0.0112936  0.01013242 0.01011567 0.00955183]\n",
      " [0.0112936  0.01013242 0.01011567 0.00955183 0.0110033 ]]\n",
      "(1505, 5)\n",
      "=============\n",
      "=============\n",
      "(1505, 5, 1)\n",
      "<class 'numpy.ndarray'>\n",
      "(1762,)\n",
      "(256,)\n",
      "(256, 1)\n",
      "=============\n",
      "X_train.shape: 1505, 5, 1\n",
      "y_train.shape: 1505, 2\n"
     ]
    }
   ],
   "source": [
    "X_train, y_train, X_test, sc = ts_train_test_normalize(all_data, 5,2)\n",
    "\n",
    "print('X_train.shape: ' + \", \".join(map(str,X_train.shape))) # (1505, 5, 1)\n",
    "print('y_train.shape: ' + \", \".join(map(str,y_train.shape))) # (1505, 2)\n"
   ]
  },
  {
   "cell_type": "code",
   "execution_count": 6,
   "metadata": {
    "scrolled": true
   },
   "outputs": [
    {
     "name": "stdout",
     "output_type": "stream",
     "text": [
      "(1505, 5)\n",
      "(1505, 2)\n",
      "(1505, 5)\n",
      "There are 1505 samples in the training data\n",
      "There are 249 samples in the test data\n"
     ]
    }
   ],
   "source": [
    "# Convert the 3D shape of X_train to a data frame so we can see: \n",
    "X_train_see = pd.DataFrame(np.reshape(X_train, (X_train.shape[0], X_train.shape[1])))\n",
    "print(X_train_see.shape) # (1505, 5)\n",
    "y_train_see = pd.DataFrame(y_train)\n",
    "print(y_train.shape) # (1505, 2)\n",
    "\n",
    "pd.concat([X_train_see, y_train_see], axis = 1) # 이걸 왜한거임? 리턴값이 합쳐진 배열인데 받지도 않을거?\n",
    "\n",
    "print(X_train_see.shape) # (1505, 5) 그대로다\n",
    "\n",
    "# Convert the 3D shape of X_test to a data frame so we can see: \n",
    "X_test_see = pd.DataFrame(np.reshape(X_test, (X_test.shape[0], X_test.shape[1])))\n",
    "pd.DataFrame(X_test_see)\n",
    "\n",
    "print(\"There are \" + str(X_train.shape[0]) + \" samples in the training data\")\n",
    "print(\"There are \" + str(X_test.shape[0]) + \" samples in the test data\")"
   ]
  },
  {
   "cell_type": "markdown",
   "metadata": {},
   "source": [
    "![image](https://img1.daumcdn.net/thumb/R1280x0/?scode=mtistory2&fname=https%3A%2F%2Fblog.kakaocdn.net%2Fdn%2FYg4ZQ%2Fbtq01rdsR9T%2F9LzqQhxjAqzrilam8PyXY1%2Fimg.png)"
   ]
  },
  {
   "cell_type": "markdown",
   "metadata": {},
   "source": [
    "## 4. LSTM 모델"
   ]
  },
  {
   "cell_type": "code",
   "execution_count": 7,
   "metadata": {},
   "outputs": [],
   "source": [
    "def LSTM_model(X_train, y_train, X_test, sc):\n",
    "    # create a model\n",
    "    from tensorflow.keras.models import Sequential\n",
    "    from tensorflow.keras.layers import Dense, SimpleRNN, GRU, LSTM\n",
    "    from tensorflow.keras.optimizers import SGD\n",
    "    \n",
    "    print('######')\n",
    "    print(X_train.shape)\n",
    "    \n",
    "    # The LSTM architecture\n",
    "    my_LSTM_model = Sequential()\n",
    "    my_LSTM_model.add(LSTM(units = 50, \n",
    "                           return_sequences = True, \n",
    "                           input_shape = (X_train.shape[1],1), \n",
    "                           activation = 'tanh'))\n",
    "    my_LSTM_model.add(LSTM(units = 50, activation = 'tanh'))\n",
    "    my_LSTM_model.add(Dense(units=2))\n",
    "    \n",
    "    # Compiling \n",
    "    my_LSTM_model.compile(optimizer = SGD(lr = 0.01, decay = 1e-7, \n",
    "                                         momentum = 0.9, nesterov = False),\n",
    "                         loss = 'mean_squared_error')\n",
    "    \n",
    "    # Fitting to the training set \n",
    "    my_LSTM_model.fit(X_train, y_train, epochs = 50, batch_size = 150, verbose = 0)\n",
    "    \n",
    "    LSTM_prediction = my_LSTM_model.predict(X_test)\n",
    "    LSTM_prediction = sc.inverse_transform(LSTM_prediction)\n",
    "    \n",
    "    \n",
    "    return my_LSTM_model, LSTM_prediction "
   ]
  },
  {
   "cell_type": "markdown",
   "metadata": {},
   "source": [
    "momentom - nesterov\n",
    "\n",
    "-----\n",
    "![image](https://github.com/skywalker023/blog_images/blob/master/optimization/nesterov_momentum.png?raw=true)"
   ]
  },
  {
   "cell_type": "code",
   "execution_count": 8,
   "metadata": {},
   "outputs": [],
   "source": [
    "def actual_pred_plot(preds):\n",
    "    \"\"\"\n",
    "    Plot the actual vs predition\n",
    "    # preds 엔 2 period 예측치 넘어오지만 오차 그릴땐 한줄만 뽑아서 비교함\n",
    "    \"\"\"\n",
    "    print('=================')\n",
    "    print('preds: ' + \", \".join(map(str,preds.shape))) \n",
    "    print(preds[:10, ])\n",
    "    \n",
    "    \n",
    "    # 0칼럼: 실제  , 1칼럼: 예측\n",
    "    actual_pred = pd.DataFrame(columns = ['Adj. Close', 'prediction'])\n",
    "    actual_pred['Adj. Close'] = all_data.loc['2019':,'Adj Close'][0:len(preds)] # 실제\n",
    "    actual_pred['prediction'] = preds[:,0] # 예측\n",
    "    \n",
    "    print('=================')\n",
    "    print(actual_pred[:10])\n",
    "    \n",
    "    print('actual_pred: ' + \", \".join(map(str,actual_pred.shape))) # (249, 2) (테스트 행 갯수, 실제+예측치)\n",
    "        \n",
    "    from keras.metrics import MeanSquaredError \n",
    "    m = MeanSquaredError()\n",
    "    m.update_state(np.array(actual_pred['Adj. Close']), np.array(actual_pred['prediction']))\n",
    "    \n",
    "    return (m.result().numpy(), actual_pred.plot())"
   ]
  },
  {
   "cell_type": "code",
   "execution_count": 10,
   "metadata": {
    "scrolled": true
   },
   "outputs": [
    {
     "name": "stdout",
     "output_type": "stream",
     "text": [
      "######\n",
      "(1505, 5, 1)\n"
     ]
    },
    {
     "name": "stderr",
     "output_type": "stream",
     "text": [
      "C:\\Users\\ample\\miniconda3\\lib\\site-packages\\keras\\optimizer_v2\\gradient_descent.py:106: UserWarning: The `lr` argument is deprecated, use `learning_rate` instead.\n",
      "  super(SGD, self).__init__(name, **kwargs)\n"
     ]
    },
    {
     "name": "stdout",
     "output_type": "stream",
     "text": [
      "8/8 [==============================] - 0s 2ms/step\n",
      "*************\n",
      "[[[0.61170225]\n",
      "  [0.68256777]\n",
      "  [0.67739829]\n",
      "  [0.68654258]\n",
      "  [0.69991291]]\n",
      "\n",
      " [[0.68256777]\n",
      "  [0.67739829]\n",
      "  [0.68654258]\n",
      "  [0.69991291]\n",
      "  [0.72065785]]\n",
      "\n",
      " [[0.67739829]\n",
      "  [0.68654258]\n",
      "  [0.69991291]\n",
      "  [0.72065785]\n",
      "  [0.69896945]]\n",
      "\n",
      " [[0.68654258]\n",
      "  [0.69991291]\n",
      "  [0.72065785]\n",
      "  [0.69896945]\n",
      "  [0.74090036]]\n",
      "\n",
      " [[0.69991291]\n",
      "  [0.72065785]\n",
      "  [0.69896945]\n",
      "  [0.74090036]\n",
      "  [0.77111339]]]\n",
      "=================\n",
      "preds: 249, 2\n",
      "[[1455.6843 1458.8633]\n",
      " [1493.5581 1497.1343]\n",
      " [1502.1553 1505.6422]\n",
      " [1519.8324 1523.3854]\n",
      " [1543.0845 1546.7454]\n",
      " [1569.2041 1572.9142]\n",
      " [1592.3665 1595.8337]\n",
      " [1625.7126 1629.2844]\n",
      " [1641.6058 1645.4528]\n",
      " [1642.8304 1646.6974]]\n",
      "=================\n",
      "            Adj. Close   prediction\n",
      "Date                               \n",
      "2019-01-02     1539.13  1455.684326\n",
      "2019-01-03     1500.28  1493.558105\n",
      "2019-01-04     1575.39  1502.155273\n",
      "2019-01-07     1629.51  1519.832397\n",
      "2019-01-08     1656.58  1543.084473\n",
      "2019-01-09     1659.42  1569.204102\n",
      "2019-01-10     1656.22  1592.366455\n",
      "2019-01-11     1640.56  1625.712646\n",
      "2019-01-14     1617.21  1641.605835\n",
      "2019-01-15     1674.56  1642.830444\n",
      "actual_pred: 249, 2\n",
      "=================\n",
      "LSTM_prediction: 249, 2\n",
      "[[1455.6843 1458.8633]\n",
      " [1493.5581 1497.1343]\n",
      " [1502.1553 1505.6422]\n",
      " [1519.8324 1523.3854]\n",
      " [1543.0845 1546.7454]\n",
      " [1569.2041 1572.9142]\n",
      " [1592.3665 1595.8337]\n",
      " [1625.7126 1629.2844]\n",
      " [1641.6058 1645.4528]\n",
      " [1642.8304 1646.6974]]\n"
     ]
    },
    {
     "data": {
      "image/png": "[encoded data removed]",
      "text/plain": [
       "<Figure size 432x288 with 1 Axes>"
      ]
     },
     "metadata": {
      "needs_background": "light"
     },
     "output_type": "display_data"
    }
   ],
   "source": [
    "my_LSTM_model, LSTM_prediction = LSTM_model(X_train, y_train, X_test, sc)\n",
    "#LSTM_prediction[1:10]\n",
    "\n",
    "print('*************')\n",
    "print(X_test[0:5])\n",
    "\n",
    "\n",
    "actual_pred_plot(LSTM_prediction) # 그냥 그래프 그리고 끝\n",
    "\n",
    "print('=================')\n",
    "print('LSTM_prediction: ' + \", \".join(map(str,LSTM_prediction.shape)))\n",
    "print(LSTM_prediction[0:10]) # 5개 먹이고, 2개의 출력값 예측\n"
   ]
  },
  {
   "cell_type": "code",
   "execution_count": 10,
   "metadata": {},
   "outputs": [
    {
     "name": "stdout",
     "output_type": "stream",
     "text": [
      "               0\n",
      "0    1456.901855\n",
      "1    1496.302490\n",
      "2    1505.269775\n",
      "3    1523.197021\n",
      "4    1546.773438\n",
      "..           ...\n",
      "244  1756.545410\n",
      "245  1762.183472\n",
      "246  1768.227783\n",
      "247  1772.872681\n",
      "248  1772.632812\n",
      "\n",
      "[249 rows x 1 columns]\n",
      "Date\n",
      "2019-01-02    1539.13\n",
      "2019-01-03    1500.28\n",
      "2019-01-04    1575.39\n",
      "2019-01-07    1629.51\n",
      "2019-01-08    1656.58\n",
      "               ...   \n",
      "2019-12-19    1792.28\n",
      "2019-12-20    1786.50\n",
      "2019-12-23    1793.00\n",
      "2019-12-24    1789.21\n",
      "2019-12-26    1868.77\n",
      "Name: Adj Close, Length: 249, dtype: float64\n",
      "<class 'pandas.core.series.Series'>\n",
      "0      1539.13\n",
      "1      1500.28\n",
      "2      1575.39\n",
      "3      1629.51\n",
      "4      1656.58\n",
      "        ...   \n",
      "244    1792.28\n",
      "245    1786.50\n",
      "246    1793.00\n",
      "247    1789.21\n",
      "248    1868.77\n",
      "Name: Adj Close, Length: 249, dtype: float64\n"
     ]
    }
   ],
   "source": [
    "y_pred = pd.DataFrame(LSTM_prediction[:, 0]) # 2개 예측치 중에 하나만 사용함. 이럴거면 왜 2개 출력함?\n",
    "print(y_pred)\n",
    "\n",
    "y_test=all_data.loc['2019':,'Adj Close'][0:len(LSTM_prediction)]\n",
    "\n",
    "print(y_test) # 연도가 나오지만, 종가로만 구성된 1칼럼\n",
    "print(type(y_test)) # <class 'pandas.core.series.Series'>\n",
    "\n",
    "y_test.reset_index(drop=True, inplace=True) # 날짜 인덱스를 기본 숫자인덱스로 리셋\n",
    "\n",
    "print(y_test)\n",
    "\n",
    "# 이 시점에서: y_pred, y_test 차원 똑같음\n"
   ]
  },
  {
   "cell_type": "code",
   "execution_count": 18,
   "metadata": {},
   "outputs": [],
   "source": [
    "from sklearn.metrics import mean_absolute_error, mean_squared_error, mean_squared_log_error, r2_score\n",
    "\n",
    "def confirm_result(y_test, y_pred):\n",
    "    MAE = mean_absolute_error(y_test, y_pred)\n",
    "    RMSE = np.sqrt(mean_squared_error(y_test, y_pred))\n",
    "    MSLE = mean_squared_log_error(y_test, y_pred)\n",
    "    RMSLE = np.sqrt(mean_squared_log_error(y_test, y_pred))\n",
    "    R2 = r2_score(y_test, y_pred)\n",
    "    \n",
    "    pd.options.display.float_format = '{:.5f}'.format\n",
    "    Result = pd.DataFrame(data=[MAE,RMSE, RMSLE, R2],\n",
    "                         index = ['MAE','RMSE', 'RMSLE', 'R2'],\n",
    "                         columns=['Results'])\n",
    "    return Result"
   ]
  },
  {
   "cell_type": "code",
   "execution_count": 13,
   "metadata": {},
   "outputs": [
    {
     "data": {
      "text/html": [
       "<div>\n",
       "<style scoped>\n",
       "    .dataframe tbody tr th:only-of-type {\n",
       "        vertical-align: middle;\n",
       "    }\n",
       "\n",
       "    .dataframe tbody tr th {\n",
       "        vertical-align: top;\n",
       "    }\n",
       "\n",
       "    .dataframe thead th {\n",
       "        text-align: right;\n",
       "    }\n",
       "</style>\n",
       "<table border=\"1\" class=\"dataframe\">\n",
       "  <thead>\n",
       "    <tr style=\"text-align: right;\">\n",
       "      <th></th>\n",
       "      <th>Results</th>\n",
       "    </tr>\n",
       "  </thead>\n",
       "  <tbody>\n",
       "    <tr>\n",
       "      <th>MAE</th>\n",
       "      <td>43.16761</td>\n",
       "    </tr>\n",
       "    <tr>\n",
       "      <th>RMSE</th>\n",
       "      <td>52.81748</td>\n",
       "    </tr>\n",
       "    <tr>\n",
       "      <th>RMSLE</th>\n",
       "      <td>0.02934</td>\n",
       "    </tr>\n",
       "    <tr>\n",
       "      <th>R2</th>\n",
       "      <td>0.72897</td>\n",
       "    </tr>\n",
       "  </tbody>\n",
       "</table>\n",
       "</div>"
      ],
      "text/plain": [
       "       Results\n",
       "MAE   43.16761\n",
       "RMSE  52.81748\n",
       "RMSLE  0.02934\n",
       "R2     0.72897"
      ]
     },
     "execution_count": 13,
     "metadata": {},
     "output_type": "execute_result"
    }
   ],
   "source": [
    "confirm_result(y_test, y_pred)"
   ]
  },
  {
   "cell_type": "markdown",
   "metadata": {},
   "source": [
    "## 5. GRU 모델\n",
    "- LSTM 과의 차이점 : cell state와 output gate 가 없음 --> LSTM 보다 파라미터가 적음"
   ]
  },
  {
   "cell_type": "code",
   "execution_count": 13,
   "metadata": {},
   "outputs": [],
   "source": [
    "def GRU_model(X_train, y_train, X_test, sc):\n",
    "    # create a model \n",
    "    from tensorflow.keras.models import Sequential \n",
    "    from tensorflow.keras.layers import Dense, SimpleRNN, GRU\n",
    "    from tensorflow.keras.optimizers import SGD \n",
    "    \n",
    "    # The GRU architecture \n",
    "    my_GRU_model = Sequential()\n",
    "    my_GRU_model.add(GRU(units = 50, \n",
    "                         return_sequences = True, \n",
    "                         input_shape = (X_train.shape[1],1), \n",
    "                         activation = 'tanh'))\n",
    "    my_GRU_model.add(GRU(units = 50, \n",
    "                         activation = 'tanh'))\n",
    "    my_GRU_model.add(Dense(units = 2))\n",
    "    \n",
    "    # Compiling the RNN \n",
    "    my_GRU_model.compile(optimizer = SGD(lr = 0.01, decay = 1e-7, \n",
    "                                         momentum = 0.9, nesterov = False), \n",
    "                         loss = 'mean_squared_error')\n",
    "    \n",
    "    # Fitting to the trainig set \n",
    "    my_GRU_model.fit(X_train, y_train, epochs = 50, batch_size = 150, verbose = 0)\n",
    "    \n",
    "    GRU_prediction = my_GRU_model.predict(X_test)\n",
    "    GRU_prediction = sc.inverse_transform(GRU_prediction)\n",
    "    \n",
    "    return my_GRU_model, GRU_prediction "
   ]
  },
  {
   "cell_type": "code",
   "execution_count": 14,
   "metadata": {},
   "outputs": [
    {
     "name": "stderr",
     "output_type": "stream",
     "text": [
      "C:\\Users\\ample\\miniconda3\\lib\\site-packages\\keras\\optimizer_v2\\gradient_descent.py:106: UserWarning: The `lr` argument is deprecated, use `learning_rate` instead.\n",
      "  super(SGD, self).__init__(name, **kwargs)\n"
     ]
    },
    {
     "name": "stdout",
     "output_type": "stream",
     "text": [
      "8/8 [==============================] - 0s 2ms/step\n"
     ]
    },
    {
     "data": {
      "text/plain": [
       "(1135.2618, <AxesSubplot:xlabel='Date'>)"
      ]
     },
     "execution_count": 14,
     "metadata": {},
     "output_type": "execute_result"
    },
    {
     "data": {
      "image/png": "[encoded data removed]",
      "text/plain": [
       "<Figure size 432x288 with 1 Axes>"
      ]
     },
     "metadata": {
      "needs_background": "light"
     },
     "output_type": "display_data"
    }
   ],
   "source": [
    "my_GRU_model, GRU_prediction = GRU_model(X_train, y_train, X_test, sc)\n",
    "GRU_prediction[1:10]\n",
    "actual_pred_plot(GRU_prediction)"
   ]
  },
  {
   "cell_type": "code",
   "execution_count": 15,
   "metadata": {},
   "outputs": [],
   "source": [
    "y_pred_gru = pd.DataFrame(GRU_prediction[:, 0])\n",
    "y_test_gru=all_data.loc['2019':,'Adj Close'][0:len(GRU_prediction)]\n",
    "y_test_gru.reset_index(drop=True, inplace=True)"
   ]
  },
  {
   "cell_type": "code",
   "execution_count": 16,
   "metadata": {},
   "outputs": [
    {
     "data": {
      "text/html": [
       "<div>\n",
       "<style scoped>\n",
       "    .dataframe tbody tr th:only-of-type {\n",
       "        vertical-align: middle;\n",
       "    }\n",
       "\n",
       "    .dataframe tbody tr th {\n",
       "        vertical-align: top;\n",
       "    }\n",
       "\n",
       "    .dataframe thead th {\n",
       "        text-align: right;\n",
       "    }\n",
       "</style>\n",
       "<table border=\"1\" class=\"dataframe\">\n",
       "  <thead>\n",
       "    <tr style=\"text-align: right;\">\n",
       "      <th></th>\n",
       "      <th>Results</th>\n",
       "    </tr>\n",
       "  </thead>\n",
       "  <tbody>\n",
       "    <tr>\n",
       "      <th>MAE</th>\n",
       "      <td>25.92415</td>\n",
       "    </tr>\n",
       "    <tr>\n",
       "      <th>RMSE</th>\n",
       "      <td>33.69364</td>\n",
       "    </tr>\n",
       "    <tr>\n",
       "      <th>RMSLE</th>\n",
       "      <td>0.01907</td>\n",
       "    </tr>\n",
       "    <tr>\n",
       "      <th>R2</th>\n",
       "      <td>0.88971</td>\n",
       "    </tr>\n",
       "  </tbody>\n",
       "</table>\n",
       "</div>"
      ],
      "text/plain": [
       "       Results\n",
       "MAE   25.92415\n",
       "RMSE  33.69364\n",
       "RMSLE  0.01907\n",
       "R2     0.88971"
      ]
     },
     "execution_count": 16,
     "metadata": {},
     "output_type": "execute_result"
    }
   ],
   "source": [
    "confirm_result(y_test_gru, y_pred_gru)"
   ]
  },
  {
   "cell_type": "code",
   "execution_count": null,
   "metadata": {},
   "outputs": [],
   "source": []
  },
  {
   "cell_type": "code",
   "execution_count": null,
   "metadata": {},
   "outputs": [],
   "source": []
  }
 ],
 "metadata": {
  "kernelspec": {
   "display_name": "Python 3 (ipykernel)",
   "language": "python",
   "name": "python3"
  },
  "language_info": {
   "codemirror_mode": {
    "name": "ipython",
    "version": 3
   },
   "file_extension": ".py",
   "mimetype": "text/x-python",
   "name": "python",
   "nbconvert_exporter": "python",
   "pygments_lexer": "ipython3",
   "version": "3.9.5"
  }
 },
 "nbformat": 4,
 "nbformat_minor": 4
}
